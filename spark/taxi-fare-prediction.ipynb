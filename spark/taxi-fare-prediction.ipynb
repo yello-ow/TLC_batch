{
 "cells": [
  {
   "cell_type": "code",
   "execution_count": 1,
   "id": "6c89f375",
   "metadata": {},
   "outputs": [],
   "source": [
    "# spark session 생성 \n",
    "from pyspark.sql import SparkSession"
   ]
  },
  {
   "cell_type": "code",
   "execution_count": 2,
   "id": "14ef5549",
   "metadata": {},
   "outputs": [
    {
     "name": "stderr",
     "output_type": "stream",
     "text": [
      "22/05/20 15:13:27 WARN Utils: Your hostname, gim-yelin-ui-iMac.local resolves to a loopback address: 127.0.0.1; using 192.168.219.101 instead (on interface en1)\n",
      "22/05/20 15:13:27 WARN Utils: Set SPARK_LOCAL_IP if you need to bind to another address\n",
      "Using Spark's default log4j profile: org/apache/spark/log4j-defaults.properties\n",
      "Setting default log level to \"WARN\".\n",
      "To adjust logging level use sc.setLogLevel(newLevel). For SparkR, use setLogLevel(newLevel).\n",
      "22/05/20 15:13:28 WARN NativeCodeLoader: Unable to load native-hadoop library for your platform... using builtin-java classes where applicable\n"
     ]
    }
   ],
   "source": [
    "# 인스턴스 생성 (Out of memory 방지를 위해 MAX_MEMORY 설정)\n",
    "MAX_MEMORY=\"5g\"\n",
    "spark = SparkSession.builder.appName(\"taxi-fare-prediciton\")\\\n",
    "                .config(\"spark.executor.memory\", MAX_MEMORY)\\\n",
    "                .config(\"spark.driver.memory\", MAX_MEMORY)\\\n",
    "                .getOrCreate()"
   ]
  },
  {
   "cell_type": "code",
   "execution_count": 3,
   "id": "528e40d4",
   "metadata": {},
   "outputs": [
    {
     "name": "stderr",
     "output_type": "stream",
     "text": [
      "                                                                                \r"
     ]
    }
   ],
   "source": [
    "# 파일 불러오기\n",
    "trip_files = \"/Users/yello-ow/taxi/data/trips/*\"\n",
    "trips_df = spark.read.csv(f\"file:///{trip_files}\", inferSchema=True, header=True)"
   ]
  },
  {
   "cell_type": "code",
   "execution_count": 4,
   "id": "2e1392e4",
   "metadata": {},
   "outputs": [
    {
     "name": "stdout",
     "output_type": "stream",
     "text": [
      "root\n",
      " |-- VendorID: integer (nullable = true)\n",
      " |-- tpep_pickup_datetime: string (nullable = true)\n",
      " |-- tpep_dropoff_datetime: string (nullable = true)\n",
      " |-- passenger_count: integer (nullable = true)\n",
      " |-- trip_distance: double (nullable = true)\n",
      " |-- RatecodeID: integer (nullable = true)\n",
      " |-- store_and_fwd_flag: string (nullable = true)\n",
      " |-- PULocationID: integer (nullable = true)\n",
      " |-- DOLocationID: integer (nullable = true)\n",
      " |-- payment_type: integer (nullable = true)\n",
      " |-- fare_amount: double (nullable = true)\n",
      " |-- extra: double (nullable = true)\n",
      " |-- mta_tax: double (nullable = true)\n",
      " |-- tip_amount: double (nullable = true)\n",
      " |-- tolls_amount: double (nullable = true)\n",
      " |-- improvement_surcharge: double (nullable = true)\n",
      " |-- total_amount: double (nullable = true)\n",
      " |-- congestion_surcharge: double (nullable = true)\n",
      "\n"
     ]
    }
   ],
   "source": [
    "# 스키마 확인\n",
    "trips_df.printSchema()"
   ]
  },
  {
   "cell_type": "code",
   "execution_count": 5,
   "id": "005be675",
   "metadata": {},
   "outputs": [],
   "source": [
    "# SQL 사용을 위해 데이터를 TempView에 담기 \n",
    "trips_df.createOrReplaceTempView(\"trips\")"
   ]
  },
  {
   "cell_type": "code",
   "execution_count": 6,
   "id": "ba12a38e",
   "metadata": {},
   "outputs": [],
   "source": [
    "# 이전 분석을 토대로 데이터 전처리 (이상치 제거)\n",
    "query = \"\"\"\n",
    "SELECT \n",
    "    trip_distance,\n",
    "    total_amount\n",
    "FROM\n",
    "    trips\n",
    "WHERE\n",
    "    total_amount < 5000\n",
    "    AND total_amount > 0\n",
    "    AND trip_distance > 0\n",
    "    AND trip_distance < 500\n",
    "    AND passenger_count < 4\n",
    "    AND TO_DATE(tpep_pickup_datetime) >= '2021-01-01'\n",
    "    AND TO_DATE(tpep_pickup_datetime) < '2021-08-01'\n",
    "\"\"\""
   ]
  },
  {
   "cell_type": "code",
   "execution_count": 7,
   "id": "479650c2",
   "metadata": {},
   "outputs": [],
   "source": [
    "# 쿼리 적용시킨 데이터를 Tempview에 담기\n",
    "data_df = spark.sql(query)\n",
    "data_df.createOrReplaceTempView(\"data\")"
   ]
  },
  {
   "cell_type": "code",
   "execution_count": 8,
   "id": "97e80528",
   "metadata": {},
   "outputs": [
    {
     "name": "stdout",
     "output_type": "stream",
     "text": [
      "+-------------+------------+\n",
      "|trip_distance|total_amount|\n",
      "+-------------+------------+\n",
      "|          2.1|        11.8|\n",
      "|          0.2|         4.3|\n",
      "|         14.7|       51.95|\n",
      "|         10.6|       36.35|\n",
      "|         4.94|       24.36|\n",
      "|          1.6|       14.15|\n",
      "|          4.1|        17.3|\n",
      "|          5.7|        21.8|\n",
      "|          9.1|        28.8|\n",
      "|          2.7|       18.95|\n",
      "|         6.11|        24.3|\n",
      "|         1.21|       10.79|\n",
      "|          7.4|       33.92|\n",
      "|         1.01|        10.3|\n",
      "|         0.73|       12.09|\n",
      "|         1.17|       12.36|\n",
      "|         0.78|        9.96|\n",
      "|         1.66|        12.3|\n",
      "|         0.93|         9.3|\n",
      "|         1.16|       11.84|\n",
      "+-------------+------------+\n",
      "only showing top 20 rows\n",
      "\n"
     ]
    }
   ],
   "source": [
    "# 쿼리 적용 데이터 확인 \n",
    "data_df.show()"
   ]
  },
  {
   "cell_type": "code",
   "execution_count": 9,
   "id": "c54120dc",
   "metadata": {},
   "outputs": [
    {
     "name": "stderr",
     "output_type": "stream",
     "text": [
      "\r",
      "[Stage 3:>                                                          (0 + 8) / 8]\r"
     ]
    },
    {
     "name": "stdout",
     "output_type": "stream",
     "text": [
      "+-------+------------------+------------------+\n",
      "|summary|     trip_distance|      total_amount|\n",
      "+-------+------------------+------------------+\n",
      "|  count|           1174301|           1174301|\n",
      "|   mean|2.6433179823571806|16.465600429524688|\n",
      "| stddev|3.4295448542568203|11.700068144721914|\n",
      "|    min|              0.01|              0.01|\n",
      "|    max|             427.7|            2292.4|\n",
      "+-------+------------------+------------------+\n",
      "\n"
     ]
    },
    {
     "name": "stderr",
     "output_type": "stream",
     "text": [
      "\r",
      "                                                                                \r"
     ]
    }
   ],
   "source": [
    "# 데이터 통계치 확인 \n",
    "data_df.describe().show()"
   ]
  },
  {
   "cell_type": "code",
   "execution_count": 10,
   "id": "35dcbacb",
   "metadata": {},
   "outputs": [],
   "source": [
    "# train/test set split\n",
    "train_df, test_df = data_df.randomSplit([0.8, 0.2], seed=5)"
   ]
  },
  {
   "cell_type": "code",
   "execution_count": 11,
   "id": "b9be6e2b",
   "metadata": {},
   "outputs": [
    {
     "name": "stderr",
     "output_type": "stream",
     "text": [
      "                                                                                \r"
     ]
    },
    {
     "name": "stdout",
     "output_type": "stream",
     "text": [
      "939563\n"
     ]
    },
    {
     "name": "stderr",
     "output_type": "stream",
     "text": [
      "\r",
      "[Stage 9:>                                                          (0 + 8) / 8]\r",
      "\r",
      "[Stage 9:=======>                                                   (1 + 7) / 8]\r"
     ]
    },
    {
     "name": "stdout",
     "output_type": "stream",
     "text": [
      "234738\n"
     ]
    },
    {
     "name": "stderr",
     "output_type": "stream",
     "text": [
      "\r",
      "                                                                                \r"
     ]
    }
   ],
   "source": [
    "print(train_df.count())\n",
    "print(test_df.count())"
   ]
  },
  {
   "cell_type": "code",
   "execution_count": 12,
   "id": "19f9e48c",
   "metadata": {},
   "outputs": [],
   "source": [
    "# spark에서 모델 학습을 위해 필요한 library\n",
    "from pyspark.ml.feature import VectorAssembler"
   ]
  },
  {
   "cell_type": "code",
   "execution_count": 13,
   "id": "520a8620",
   "metadata": {},
   "outputs": [],
   "source": [
    "vassembler = VectorAssembler(inputCols=[\"trip_distance\"], outputCol=\"features\")"
   ]
  },
  {
   "cell_type": "code",
   "execution_count": 14,
   "id": "59e84ad1",
   "metadata": {},
   "outputs": [],
   "source": [
    "# train 데이터에 vectorassembler 적용 \n",
    "vtrain_df = vassembler.transform(train_df)"
   ]
  },
  {
   "cell_type": "code",
   "execution_count": 15,
   "id": "33a9654f",
   "metadata": {},
   "outputs": [
    {
     "name": "stdout",
     "output_type": "stream",
     "text": [
      "+-------------+------------+--------+\n",
      "|trip_distance|total_amount|features|\n",
      "+-------------+------------+--------+\n",
      "|         0.01|         3.3|  [0.01]|\n",
      "|         0.01|         3.3|  [0.01]|\n",
      "|         0.01|         3.3|  [0.01]|\n",
      "|         0.01|         3.3|  [0.01]|\n",
      "|         0.01|         3.3|  [0.01]|\n",
      "|         0.01|         3.3|  [0.01]|\n",
      "|         0.01|         3.3|  [0.01]|\n",
      "|         0.01|         3.3|  [0.01]|\n",
      "|         0.01|         3.3|  [0.01]|\n",
      "|         0.01|         3.3|  [0.01]|\n",
      "|         0.01|         3.3|  [0.01]|\n",
      "|         0.01|         3.3|  [0.01]|\n",
      "|         0.01|         3.3|  [0.01]|\n",
      "|         0.01|         3.3|  [0.01]|\n",
      "|         0.01|         3.8|  [0.01]|\n",
      "|         0.01|         3.8|  [0.01]|\n",
      "|         0.01|         3.8|  [0.01]|\n",
      "|         0.01|         3.8|  [0.01]|\n",
      "|         0.01|         3.8|  [0.01]|\n",
      "|         0.01|         4.8|  [0.01]|\n",
      "+-------------+------------+--------+\n",
      "only showing top 20 rows\n",
      "\n"
     ]
    },
    {
     "name": "stderr",
     "output_type": "stream",
     "text": [
      "\r",
      "[Stage 12:>                                                         (0 + 1) / 1]\r",
      "\r",
      "                                                                                \r"
     ]
    }
   ],
   "source": [
    "vtrain_df.show()"
   ]
  },
  {
   "cell_type": "code",
   "execution_count": 16,
   "id": "bba4e6d5",
   "metadata": {},
   "outputs": [],
   "source": [
    "# 선형회귀모델 \n",
    "from pyspark.ml.regression import LinearRegression"
   ]
  },
  {
   "cell_type": "code",
   "execution_count": 17,
   "id": "87db9c13",
   "metadata": {},
   "outputs": [],
   "source": [
    "# baseline 모델\n",
    "lr = LinearRegression(\n",
    "    maxIter=50,\n",
    "    labelCol=\"total_amount\",\n",
    "    featuresCol=\"features\"\n",
    ")"
   ]
  },
  {
   "cell_type": "code",
   "execution_count": 18,
   "id": "15504cb1",
   "metadata": {},
   "outputs": [
    {
     "name": "stderr",
     "output_type": "stream",
     "text": [
      "22/05/20 15:13:49 WARN Instrumentation: [3d7a66f6] regParam is zero, which might cause numerical instability and overfitting.\n",
      "22/05/20 15:13:50 WARN InstanceBuilder$NativeBLAS: Failed to load implementation from:dev.ludovic.netlib.blas.JNIBLAS\n",
      "22/05/20 15:13:50 WARN InstanceBuilder$NativeBLAS: Failed to load implementation from:dev.ludovic.netlib.blas.ForeignLinkerBLAS\n",
      "22/05/20 15:13:51 WARN InstanceBuilder$NativeLAPACK: Failed to load implementation from:dev.ludovic.netlib.lapack.JNILAPACK\n",
      "                                                                                \r"
     ]
    }
   ],
   "source": [
    "# 모델 train\n",
    "model = lr.fit(vtrain_df)"
   ]
  },
  {
   "cell_type": "code",
   "execution_count": 19,
   "id": "bdbb608c",
   "metadata": {},
   "outputs": [],
   "source": [
    "# 모델 test\n",
    "vtest_df = vassembler.transform(test_df)"
   ]
  },
  {
   "cell_type": "code",
   "execution_count": 20,
   "id": "7a26b563",
   "metadata": {},
   "outputs": [],
   "source": [
    "prediction = model.transform(vtest_df)"
   ]
  },
  {
   "cell_type": "code",
   "execution_count": 21,
   "id": "74a81829",
   "metadata": {},
   "outputs": [
    {
     "name": "stdout",
     "output_type": "stream",
     "text": [
      "+-------------+------------+--------+-----------------+\n",
      "|trip_distance|total_amount|features|       prediction|\n",
      "+-------------+------------+--------+-----------------+\n",
      "|         0.01|         3.3|  [0.01]|8.035911836584692|\n",
      "|         0.01|         5.8|  [0.01]|8.035911836584692|\n",
      "|         0.01|         5.8|  [0.01]|8.035911836584692|\n",
      "|         0.01|         6.3|  [0.01]|8.035911836584692|\n",
      "|         0.01|         6.8|  [0.01]|8.035911836584692|\n",
      "|         0.01|         7.3|  [0.01]|8.035911836584692|\n",
      "|         0.01|         7.8|  [0.01]|8.035911836584692|\n",
      "|         0.01|        14.8|  [0.01]|8.035911836584692|\n",
      "|         0.01|        35.8|  [0.01]|8.035911836584692|\n",
      "|         0.01|        52.8|  [0.01]|8.035911836584692|\n",
      "|         0.01|        55.3|  [0.01]|8.035911836584692|\n",
      "|         0.02|         3.3|  [0.02]|8.067935043612483|\n",
      "|         0.02|         3.3|  [0.02]|8.067935043612483|\n",
      "|         0.02|         3.3|  [0.02]|8.067935043612483|\n",
      "|         0.02|         3.7|  [0.02]|8.067935043612483|\n",
      "|         0.02|         4.3|  [0.02]|8.067935043612483|\n",
      "|         0.02|         4.8|  [0.02]|8.067935043612483|\n",
      "|         0.02|         5.8|  [0.02]|8.067935043612483|\n",
      "|         0.02|         5.8|  [0.02]|8.067935043612483|\n",
      "|         0.02|         6.3|  [0.02]|8.067935043612483|\n",
      "+-------------+------------+--------+-----------------+\n",
      "only showing top 20 rows\n",
      "\n"
     ]
    }
   ],
   "source": [
    "prediction.show()"
   ]
  },
  {
   "cell_type": "code",
   "execution_count": 22,
   "id": "14e0be60",
   "metadata": {},
   "outputs": [
    {
     "data": {
      "text/plain": [
       "4.093535599192618"
      ]
     },
     "execution_count": 22,
     "metadata": {},
     "output_type": "execute_result"
    }
   ],
   "source": [
    "# 모델 평가\n",
    "model.summary.rootMeanSquaredError"
   ]
  },
  {
   "cell_type": "code",
   "execution_count": 23,
   "id": "0988cd09",
   "metadata": {},
   "outputs": [
    {
     "data": {
      "text/plain": [
       "0.8793536246241528"
      ]
     },
     "execution_count": 23,
     "metadata": {},
     "output_type": "execute_result"
    }
   ],
   "source": [
    "model.summary.r2"
   ]
  },
  {
   "cell_type": "code",
   "execution_count": 24,
   "id": "ad5e86ab",
   "metadata": {},
   "outputs": [],
   "source": [
    "# 모델을 서비스에 적용하기 위한 단계 \n",
    "from pyspark.sql.types import DoubleType\n",
    "distance_list = [1.1, 5.5, 10.5, 30.0]\n",
    "distance_df = spark.createDataFrame(distance_list, DoubleType()).toDF(\"trip_distance\")"
   ]
  },
  {
   "cell_type": "code",
   "execution_count": 25,
   "id": "ac91a7a3",
   "metadata": {},
   "outputs": [
    {
     "name": "stdout",
     "output_type": "stream",
     "text": [
      "+-------------+\n",
      "|trip_distance|\n",
      "+-------------+\n",
      "|          1.1|\n",
      "|          5.5|\n",
      "|         10.5|\n",
      "|         30.0|\n",
      "+-------------+\n",
      "\n"
     ]
    }
   ],
   "source": [
    "distance_df.show()"
   ]
  },
  {
   "cell_type": "code",
   "execution_count": 26,
   "id": "1b6742a2",
   "metadata": {},
   "outputs": [],
   "source": [
    "vdistance_df = vassembler.transform(distance_df)"
   ]
  },
  {
   "cell_type": "code",
   "execution_count": 27,
   "id": "1464f383",
   "metadata": {},
   "outputs": [
    {
     "name": "stdout",
     "output_type": "stream",
     "text": [
      "+-------------+--------+\n",
      "|trip_distance|features|\n",
      "+-------------+--------+\n",
      "|          1.1|   [1.1]|\n",
      "|          5.5|   [5.5]|\n",
      "|         10.5|  [10.5]|\n",
      "|         30.0|  [30.0]|\n",
      "+-------------+--------+\n",
      "\n"
     ]
    }
   ],
   "source": [
    "vdistance_df.show()"
   ]
  },
  {
   "cell_type": "code",
   "execution_count": 28,
   "id": "24d256c3",
   "metadata": {},
   "outputs": [
    {
     "name": "stdout",
     "output_type": "stream",
     "text": [
      "+-------------+--------+------------------+\n",
      "|trip_distance|features|        prediction|\n",
      "+-------------+--------+------------------+\n",
      "|          1.1|   [1.1]|11.526441402613882|\n",
      "|          5.5|   [5.5]|25.616652494841805|\n",
      "|         10.5|  [10.5]| 41.62825600873717|\n",
      "|         30.0|  [30.0]| 104.0735097129291|\n",
      "+-------------+--------+------------------+\n",
      "\n"
     ]
    }
   ],
   "source": [
    "model.transform(vdistance_df).show()"
   ]
  },
  {
   "cell_type": "code",
   "execution_count": 29,
   "id": "ed4d8943",
   "metadata": {},
   "outputs": [],
   "source": [
    "spark.stop()"
   ]
  }
 ],
 "metadata": {
  "kernelspec": {
   "display_name": "Python 3 (ipykernel)",
   "language": "python",
   "name": "python3"
  },
  "language_info": {
   "codemirror_mode": {
    "name": "ipython",
    "version": 3
   },
   "file_extension": ".py",
   "mimetype": "text/x-python",
   "name": "python",
   "nbconvert_exporter": "python",
   "pygments_lexer": "ipython3",
   "version": "3.8.13"
  }
 },
 "nbformat": 4,
 "nbformat_minor": 5
}
